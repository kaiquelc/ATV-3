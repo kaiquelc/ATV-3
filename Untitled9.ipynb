{
  "nbformat": 4,
  "nbformat_minor": 0,
  "metadata": {
    "colab": {
      "provenance": [],
      "authorship_tag": "ABX9TyPfFWRQLB+1mZvpiaQuzJV1",
      "include_colab_link": true
    },
    "kernelspec": {
      "name": "python3",
      "display_name": "Python 3"
    },
    "language_info": {
      "name": "python"
    }
  },
  "cells": [
    {
      "cell_type": "markdown",
      "metadata": {
        "id": "view-in-github",
        "colab_type": "text"
      },
      "source": [
        "<a href=\"https://colab.research.google.com/github/kaiquelc/ATV-3/blob/main/Untitled9.ipynb\" target=\"_parent\"><img src=\"https://colab.research.google.com/assets/colab-badge.svg\" alt=\"Open In Colab\"/></a>"
      ]
    },
    {
      "cell_type": "code",
      "execution_count": 1,
      "metadata": {
        "colab": {
          "base_uri": "https://localhost:8080/"
        },
        "id": "C_jkDvN9JiRd",
        "outputId": "1161eae6-7c44-4fd0-dd5f-bd641ab89daf"
      },
      "outputs": [
        {
          "output_type": "stream",
          "name": "stdout",
          "text": [
            "Nota do Matson: 7.7\n"
          ]
        }
      ],
      "source": [
        "# Dicionário com as notas de alguns alunos\n",
        "notas = {'Teo': 8.5, 'Cristiano': 8.9, 'Matson': 7.7}\n",
        "\n",
        "# 1 - Exiba a nota do aluno Matson\n",
        "print(\"Nota do Matson:\", notas['Matson'])"
      ]
    },
    {
      "cell_type": "code",
      "source": [
        "# 2 - Adicione um novo aluno chamado \"Bruna\" com a nota 8.7\n",
        "notas['Bruna'] = 8.7\n",
        "\n",
        "# 3 - Atualize a nota do aluno \"Teo\" para 9.2\n",
        "notas['Teo'] = 9.2"
      ],
      "metadata": {
        "id": "12p7-OnoJobm"
      },
      "execution_count": 2,
      "outputs": []
    },
    {
      "cell_type": "code",
      "source": [
        "# 4 - Verifique se o aluno \"Carlos\" está no dicionário\n",
        "print(\"Carlos está no dicionário?\", 'Carlos' in notas)\n",
        "\n",
        "# 5 - Apague o aluno \"Matson\" do dicionário\n",
        "del notas['Matson']"
      ],
      "metadata": {
        "colab": {
          "base_uri": "https://localhost:8080/"
        },
        "id": "DOhKsYOLJtr9",
        "outputId": "cc141d2d-3e3e-43ba-dbb7-259cb61848d9"
      },
      "execution_count": 3,
      "outputs": [
        {
          "output_type": "stream",
          "name": "stdout",
          "text": [
            "Carlos está no dicionário? False\n"
          ]
        }
      ]
    },
    {
      "cell_type": "code",
      "source": [
        "# 6 - Adicione dois novos alunos com notas à sua escolha\n",
        "notas['Lara'] = 9.0\n",
        "notas['Pedro'] = 7.5"
      ],
      "metadata": {
        "id": "jZi8A6_FJwpk"
      },
      "execution_count": 4,
      "outputs": []
    },
    {
      "cell_type": "code",
      "source": [
        "# 9 - Use o método .get() para tentar buscar a nota de \"Islla\", e retorne \"Aluno não encontrado\"\n",
        "print(\"Nota de Islla:\", notas.get('Islla', 'Aluno não encontrado'))\n",
        "\n",
        "# 10 - Use o método .get() para tentar buscar a nota de algum aluno, e a retorne\n",
        "print(\"Nota de Bruna:\", notas.get('Bruna'))"
      ],
      "metadata": {
        "colab": {
          "base_uri": "https://localhost:8080/"
        },
        "id": "wa6PgIJCJz53",
        "outputId": "b59f7042-26c4-49c4-baba-f87c5de2c202"
      },
      "execution_count": 5,
      "outputs": [
        {
          "output_type": "stream",
          "name": "stdout",
          "text": [
            "Nota de Islla: Aluno não encontrado\n",
            "Nota de Bruna: 8.7\n"
          ]
        }
      ]
    }
  ]
}